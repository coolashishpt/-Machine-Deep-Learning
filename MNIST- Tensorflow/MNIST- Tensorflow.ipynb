{
 "cells": [
  {
   "cell_type": "code",
   "execution_count": 1,
   "metadata": {},
   "outputs": [],
   "source": [
    "import tensorflow as tf\n",
    "from tensorflow.examples.tutorials.mnist import input_data"
   ]
  },
  {
   "cell_type": "code",
   "execution_count": 2,
   "metadata": {},
   "outputs": [
    {
     "name": "stdout",
     "output_type": "stream",
     "text": [
      "WARNING:tensorflow:From <ipython-input-2-72016c53d2d0>:1: read_data_sets (from tensorflow.contrib.learn.python.learn.datasets.mnist) is deprecated and will be removed in a future version.\n",
      "Instructions for updating:\n",
      "Please use alternatives such as official/mnist/dataset.py from tensorflow/models.\n",
      "WARNING:tensorflow:From c:\\users\\prasa\\appdata\\local\\programs\\python\\python36\\lib\\site-packages\\tensorflow_core\\contrib\\learn\\python\\learn\\datasets\\mnist.py:260: maybe_download (from tensorflow.contrib.learn.python.learn.datasets.base) is deprecated and will be removed in a future version.\n",
      "Instructions for updating:\n",
      "Please write your own downloading logic.\n",
      "WARNING:tensorflow:From c:\\users\\prasa\\appdata\\local\\programs\\python\\python36\\lib\\site-packages\\tensorflow_core\\contrib\\learn\\python\\learn\\datasets\\mnist.py:262: extract_images (from tensorflow.contrib.learn.python.learn.datasets.mnist) is deprecated and will be removed in a future version.\n",
      "Instructions for updating:\n",
      "Please use tf.data to implement this functionality.\n",
      "Extracting MNIST_data/train-images-idx3-ubyte.gz\n",
      "WARNING:tensorflow:From c:\\users\\prasa\\appdata\\local\\programs\\python\\python36\\lib\\site-packages\\tensorflow_core\\contrib\\learn\\python\\learn\\datasets\\mnist.py:267: extract_labels (from tensorflow.contrib.learn.python.learn.datasets.mnist) is deprecated and will be removed in a future version.\n",
      "Instructions for updating:\n",
      "Please use tf.data to implement this functionality.\n",
      "Extracting MNIST_data/train-labels-idx1-ubyte.gz\n",
      "WARNING:tensorflow:From c:\\users\\prasa\\appdata\\local\\programs\\python\\python36\\lib\\site-packages\\tensorflow_core\\contrib\\learn\\python\\learn\\datasets\\mnist.py:110: dense_to_one_hot (from tensorflow.contrib.learn.python.learn.datasets.mnist) is deprecated and will be removed in a future version.\n",
      "Instructions for updating:\n",
      "Please use tf.one_hot on tensors.\n",
      "Extracting MNIST_data/t10k-images-idx3-ubyte.gz\n",
      "Extracting MNIST_data/t10k-labels-idx1-ubyte.gz\n",
      "WARNING:tensorflow:From c:\\users\\prasa\\appdata\\local\\programs\\python\\python36\\lib\\site-packages\\tensorflow_core\\contrib\\learn\\python\\learn\\datasets\\mnist.py:290: DataSet.__init__ (from tensorflow.contrib.learn.python.learn.datasets.mnist) is deprecated and will be removed in a future version.\n",
      "Instructions for updating:\n",
      "Please use alternatives such as official/mnist/dataset.py from tensorflow/models.\n"
     ]
    },
    {
     "data": {
      "text/plain": [
       "Datasets(train=<tensorflow.contrib.learn.python.learn.datasets.mnist.DataSet object at 0x000002879C91DBA8>, validation=<tensorflow.contrib.learn.python.learn.datasets.mnist.DataSet object at 0x000002879C9CAAC8>, test=<tensorflow.contrib.learn.python.learn.datasets.mnist.DataSet object at 0x000002879C9CAA90>)"
      ]
     },
     "execution_count": 2,
     "metadata": {},
     "output_type": "execute_result"
    }
   ],
   "source": [
    "mnist = input_data.read_data_sets(\"MNIST_data/\", one_hot=True)\n",
    "mnist"
   ]
  },
  {
   "cell_type": "code",
   "execution_count": 3,
   "metadata": {},
   "outputs": [
    {
     "name": "stdout",
     "output_type": "stream",
     "text": [
      "Shape of Train Data (55000, 784)\n",
      "Shape of Test Data (10000, 784)\n",
      "Shape Validation Data (5000, 784)\n"
     ]
    }
   ],
   "source": [
    "print(\"Shape of Train Data\",mnist.train.images.shape)\n",
    "print(\"Shape of Test Data\",mnist.test.images.shape)\n",
    "print(\"Shape Validation Data\",mnist.validation.images.shape)"
   ]
  },
  {
   "cell_type": "code",
   "execution_count": 4,
   "metadata": {},
   "outputs": [
    {
     "name": "stdout",
     "output_type": "stream",
     "text": [
      "Shape of Train labels (55000, 10)\n",
      "Shape of Test labels (10000, 10)\n"
     ]
    }
   ],
   "source": [
    "print(\"Shape of Train labels\", mnist.train.labels.shape)\n",
    "print(\"Shape of Test labels\", mnist.test.labels.shape)"
   ]
  },
  {
   "cell_type": "code",
   "execution_count": 5,
   "metadata": {},
   "outputs": [
    {
     "data": {
      "text/plain": [
       "array([0., 0., 0., 0., 0., 0., 0., 1., 0., 0.])"
      ]
     },
     "execution_count": 5,
     "metadata": {},
     "output_type": "execute_result"
    }
   ],
   "source": [
    "mnist.train.labels[0]"
   ]
  },
  {
   "cell_type": "code",
   "execution_count": 6,
   "metadata": {},
   "outputs": [
    {
     "data": {
      "text/plain": [
       "<function matplotlib.pyplot.show(*args, **kw)>"
      ]
     },
     "execution_count": 6,
     "metadata": {},
     "output_type": "execute_result"
    },
    {
     "data": {
      "image/png": "[encoded data removed]",
      "text/plain": [
       "<Figure size 432x288 with 1 Axes>"
      ]
     },
     "metadata": {
      "needs_background": "light"
     },
     "output_type": "display_data"
    }
   ],
   "source": [
    "import numpy as np\n",
    "import matplotlib.pyplot as plt\n",
    "\n",
    "fig = mnist.train.images[67]\n",
    "fig = np.array(fig, dtype=\"float\")\n",
    "fig = fig.reshape((28,28))\n",
    "plt.imshow(fig)\n",
    "plt.show"
   ]
  },
  {
   "cell_type": "code",
   "execution_count": 7,
   "metadata": {},
   "outputs": [],
   "source": [
    "n_feature = 784\n",
    "n_hidden1 = 256\n",
    "n_hidden2 = 256\n",
    "n_classes = 10\n",
    "\n",
    "weight = {\n",
    "    \"h1\": tf.Variable(tf.random.normal([n_feature, n_hidden1])),\n",
    "    \"h2\": tf.Variable(tf.random.normal([n_hidden1, n_hidden2])),\n",
    "    \"out\": tf.Variable(tf.random.normal([n_hidden2, n_classes]))\n",
    "}\n",
    "\n",
    "biases = {\n",
    "    \"h1\": tf.Variable(tf.random.normal([n_hidden1])),\n",
    "    \"h2\": tf.Variable(tf.random.normal([n_hidden2])),\n",
    "    \"out\": tf.Variable(tf.random.normal([n_classes]))\n",
    "}"
   ]
  },
  {
   "cell_type": "code",
   "execution_count": 44,
   "metadata": {},
   "outputs": [],
   "source": [
    "def forward_propagation(x, weight, biases):\n",
    "    in_layer_1 = tf.add(tf.matmul(x, weight[\"h1\"]), biases[\"h1\"])\n",
    "    out_layer_1 = tf.nn.relu(in_layer_1)\n",
    "    \n",
    "    in_layer_2 = tf.add(tf.matmul(out_layer_1, weight[\"h2\"]), biases[\"h2\"])\n",
    "    out_layer_2 = tf.nn.relu(in_layer_2)\n",
    "    \n",
    "    output = tf.add(tf.matmul(in_layer_2, weight[\"out\"]), biases[\"out\"])\n",
    "    return output\n"
   ]
  },
  {
   "cell_type": "code",
   "execution_count": 45,
   "metadata": {},
   "outputs": [],
   "source": [
    "x = tf.placeholder(\"float\", [None, n_feature])\n",
    "y = tf.placeholder(tf.int32, [None, n_classes])\n",
    "prediciton = forward_propagation(x, weight, biases)"
   ]
  },
  {
   "cell_type": "code",
   "execution_count": 46,
   "metadata": {},
   "outputs": [],
   "source": [
    "cost = tf.reduce_mean(tf.nn.softmax_cross_entropy_with_logits(logits=prediciton, labels=y))"
   ]
  },
  {
   "cell_type": "code",
   "execution_count": 47,
   "metadata": {},
   "outputs": [],
   "source": [
    "omptimer = tf.train.AdamOptimizer(learning_rate=0.01)\n",
    "omptimer_ = omptimer.minimize(cost)\n"
   ]
  },
  {
   "cell_type": "code",
   "execution_count": 48,
   "metadata": {},
   "outputs": [],
   "source": [
    "sess = tf.Session()\n",
    "sess.run(tf.global_variables_initializer())"
   ]
  },
  {
   "cell_type": "code",
   "execution_count": 64,
   "metadata": {},
   "outputs": [
    {
     "name": "stdout",
     "output_type": "stream",
     "text": [
      "3451.106092442991\n",
      "2351.993520281417\n",
      "1962.7513990562868\n",
      "1860.1172312013805\n",
      "1735.8572743598809\n",
      "1498.1853793513728\n",
      "1437.3798930881894\n",
      "1028.4408898134716\n",
      "838.58351104334\n",
      "660.7157398462296\n",
      "663.1444397782907\n",
      "619.2677091807127\n",
      "453.79436675459146\n",
      "500.14588618278503\n",
      "452.8252173513174\n",
      "459.19861041009426\n",
      "481.2160394191742\n",
      "429.9646956026554\n",
      "415.14957381784916\n",
      "395.67155872285366\n",
      "384.86418034136295\n",
      "357.06369648873806\n",
      "460.46309596300125\n",
      "378.94882264733315\n",
      "343.5851936042309\n"
     ]
    }
   ],
   "source": [
    "batch_size = 100\n",
    "for i in range(25):\n",
    "    num_batches = int(mnist.train.num_examples/batch_size)\n",
    "    total_batches = 0\n",
    "    for j in range(num_batches):\n",
    "        x_batch, y_batch = mnist.train.next_batch(batch_size)\n",
    "        cost_, _ = sess.run([cost, omptimer_], feed_dict={x:x_batch, y:y_batch})\n",
    "        total_batches += cost_\n",
    "    print(total_batches)"
   ]
  },
  {
   "cell_type": "code",
   "execution_count": 65,
   "metadata": {},
   "outputs": [],
   "source": [
    "arg_pred = tf.argmax(prediciton, 1)\n",
    "arg_actual = tf.argmax(y, 1)\n",
    "actual_pred = tf.equal(arg_pred, arg_actual)"
   ]
  },
  {
   "cell_type": "code",
   "execution_count": 66,
   "metadata": {},
   "outputs": [
    {
     "data": {
      "text/plain": [
       "(array([2, 7, 1, ..., 0, 3, 6], dtype=int64),\n",
       " array([2, 7, 1, ..., 0, 3, 6], dtype=int64),\n",
       " array([ True,  True,  True, ...,  True,  True,  True]))"
      ]
     },
     "execution_count": 66,
     "metadata": {},
     "output_type": "execute_result"
    }
   ],
   "source": [
    "arg_pred_, arg_actual, actual_pred_ = sess.run([arg_pred, arg_actual, actual_pred], feed_dict={x:mnist.train.images, y:mnist.train.labels})\n",
    "arg_pred_, arg_actual, actual_pred_"
   ]
  },
  {
   "cell_type": "code",
   "execution_count": 67,
   "metadata": {},
   "outputs": [
    {
     "data": {
      "text/plain": [
       "True     48633\n",
       "False     6367\n",
       "dtype: int64"
      ]
     },
     "execution_count": 67,
     "metadata": {},
     "output_type": "execute_result"
    }
   ],
   "source": [
    "import pandas as pd\n",
    "pd.value_counts(actual_pred_)"
   ]
  },
  {
   "cell_type": "code",
   "execution_count": null,
   "metadata": {},
   "outputs": [],
   "source": []
  }
 ],
 "metadata": {
  "kernelspec": {
   "display_name": "Python 3",
   "language": "python",
   "name": "python3"
  },
  "language_info": {
   "codemirror_mode": {
    "name": "ipython",
    "version": 3
   },
   "file_extension": ".py",
   "mimetype": "text/x-python",
   "name": "python",
   "nbconvert_exporter": "python",
   "pygments_lexer": "ipython3",
   "version": "3.6.8"
  }
 },
 "nbformat": 4,
 "nbformat_minor": 4
}
