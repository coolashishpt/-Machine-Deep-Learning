{
 "cells": [
  {
   "cell_type": "markdown",
   "metadata": {},
   "source": [
    "# Analysis of Diabetes Dataset by using Linear Regression"
   ]
  },
  {
   "cell_type": "code",
   "execution_count": 1,
   "metadata": {},
   "outputs": [],
   "source": [
    "# importing all necessary lib that gonna use\n",
    "import pandas as pd\n",
    "import numpy as np\n",
    "import matplotlib.pyplot as plt"
   ]
  },
  {
   "cell_type": "code",
   "execution_count": 2,
   "metadata": {},
   "outputs": [
    {
     "data": {
      "text/html": [
       "<div>\n",
       "<style scoped>\n",
       "    .dataframe tbody tr th:only-of-type {\n",
       "        vertical-align: middle;\n",
       "    }\n",
       "\n",
       "    .dataframe tbody tr th {\n",
       "        vertical-align: top;\n",
       "    }\n",
       "\n",
       "    .dataframe thead th {\n",
       "        text-align: right;\n",
       "    }\n",
       "</style>\n",
       "<table border=\"1\" class=\"dataframe\">\n",
       "  <thead>\n",
       "    <tr style=\"text-align: right;\">\n",
       "      <th></th>\n",
       "      <th># age</th>\n",
       "      <th>sex</th>\n",
       "      <th>bmi</th>\n",
       "      <th>bp</th>\n",
       "      <th>s1</th>\n",
       "      <th>s2</th>\n",
       "      <th>s3</th>\n",
       "      <th>s4</th>\n",
       "      <th>s5</th>\n",
       "      <th>s6</th>\n",
       "      <th>Y</th>\n",
       "    </tr>\n",
       "  </thead>\n",
       "  <tbody>\n",
       "    <tr>\n",
       "      <th>0</th>\n",
       "      <td>-0.049105</td>\n",
       "      <td>-0.044642</td>\n",
       "      <td>0.160855</td>\n",
       "      <td>-0.046985</td>\n",
       "      <td>-0.029088</td>\n",
       "      <td>-0.019790</td>\n",
       "      <td>-0.047082</td>\n",
       "      <td>0.034309</td>\n",
       "      <td>0.028017</td>\n",
       "      <td>0.011349</td>\n",
       "      <td>346.0</td>\n",
       "    </tr>\n",
       "    <tr>\n",
       "      <th>1</th>\n",
       "      <td>-0.070900</td>\n",
       "      <td>0.050680</td>\n",
       "      <td>-0.089197</td>\n",
       "      <td>-0.074528</td>\n",
       "      <td>-0.042848</td>\n",
       "      <td>-0.025739</td>\n",
       "      <td>-0.032356</td>\n",
       "      <td>-0.002592</td>\n",
       "      <td>-0.012908</td>\n",
       "      <td>-0.054925</td>\n",
       "      <td>104.0</td>\n",
       "    </tr>\n",
       "    <tr>\n",
       "      <th>2</th>\n",
       "      <td>0.001751</td>\n",
       "      <td>-0.044642</td>\n",
       "      <td>-0.070875</td>\n",
       "      <td>-0.022885</td>\n",
       "      <td>-0.001569</td>\n",
       "      <td>-0.001001</td>\n",
       "      <td>0.026550</td>\n",
       "      <td>-0.039493</td>\n",
       "      <td>-0.022512</td>\n",
       "      <td>0.007207</td>\n",
       "      <td>49.0</td>\n",
       "    </tr>\n",
       "    <tr>\n",
       "      <th>3</th>\n",
       "      <td>0.048974</td>\n",
       "      <td>0.050680</td>\n",
       "      <td>0.081097</td>\n",
       "      <td>0.021872</td>\n",
       "      <td>0.043837</td>\n",
       "      <td>0.064134</td>\n",
       "      <td>-0.054446</td>\n",
       "      <td>0.071210</td>\n",
       "      <td>0.032433</td>\n",
       "      <td>0.048628</td>\n",
       "      <td>180.0</td>\n",
       "    </tr>\n",
       "    <tr>\n",
       "      <th>4</th>\n",
       "      <td>0.041708</td>\n",
       "      <td>0.050680</td>\n",
       "      <td>0.061696</td>\n",
       "      <td>-0.040099</td>\n",
       "      <td>-0.013953</td>\n",
       "      <td>0.006202</td>\n",
       "      <td>-0.028674</td>\n",
       "      <td>-0.002592</td>\n",
       "      <td>-0.014956</td>\n",
       "      <td>0.011349</td>\n",
       "      <td>110.0</td>\n",
       "    </tr>\n",
       "    <tr>\n",
       "      <th>5</th>\n",
       "      <td>-0.060003</td>\n",
       "      <td>0.050680</td>\n",
       "      <td>-0.047163</td>\n",
       "      <td>-0.022885</td>\n",
       "      <td>-0.071743</td>\n",
       "      <td>-0.057681</td>\n",
       "      <td>-0.006584</td>\n",
       "      <td>-0.039493</td>\n",
       "      <td>-0.062913</td>\n",
       "      <td>-0.054925</td>\n",
       "      <td>72.0</td>\n",
       "    </tr>\n",
       "    <tr>\n",
       "      <th>6</th>\n",
       "      <td>-0.074533</td>\n",
       "      <td>0.050680</td>\n",
       "      <td>0.055229</td>\n",
       "      <td>-0.040099</td>\n",
       "      <td>0.053469</td>\n",
       "      <td>0.053174</td>\n",
       "      <td>-0.043401</td>\n",
       "      <td>0.071210</td>\n",
       "      <td>0.061238</td>\n",
       "      <td>-0.034215</td>\n",
       "      <td>68.0</td>\n",
       "    </tr>\n",
       "    <tr>\n",
       "      <th>7</th>\n",
       "      <td>-0.016412</td>\n",
       "      <td>-0.044642</td>\n",
       "      <td>-0.013751</td>\n",
       "      <td>0.132044</td>\n",
       "      <td>-0.009825</td>\n",
       "      <td>-0.003819</td>\n",
       "      <td>0.019187</td>\n",
       "      <td>-0.039493</td>\n",
       "      <td>-0.035817</td>\n",
       "      <td>-0.030072</td>\n",
       "      <td>216.0</td>\n",
       "    </tr>\n",
       "    <tr>\n",
       "      <th>8</th>\n",
       "      <td>0.023546</td>\n",
       "      <td>0.050680</td>\n",
       "      <td>-0.020218</td>\n",
       "      <td>-0.036656</td>\n",
       "      <td>-0.013953</td>\n",
       "      <td>-0.015092</td>\n",
       "      <td>0.059685</td>\n",
       "      <td>-0.039493</td>\n",
       "      <td>-0.096433</td>\n",
       "      <td>-0.017646</td>\n",
       "      <td>47.0</td>\n",
       "    </tr>\n",
       "    <tr>\n",
       "      <th>9</th>\n",
       "      <td>0.074401</td>\n",
       "      <td>-0.044642</td>\n",
       "      <td>0.031517</td>\n",
       "      <td>0.101058</td>\n",
       "      <td>0.046589</td>\n",
       "      <td>0.036890</td>\n",
       "      <td>0.015505</td>\n",
       "      <td>-0.002592</td>\n",
       "      <td>0.033657</td>\n",
       "      <td>0.044485</td>\n",
       "      <td>296.0</td>\n",
       "    </tr>\n",
       "  </tbody>\n",
       "</table>\n",
       "</div>"
      ],
      "text/plain": [
       "      # age       sex       bmi        bp        s1        s2        s3  \\\n",
       "0 -0.049105 -0.044642  0.160855 -0.046985 -0.029088 -0.019790 -0.047082   \n",
       "1 -0.070900  0.050680 -0.089197 -0.074528 -0.042848 -0.025739 -0.032356   \n",
       "2  0.001751 -0.044642 -0.070875 -0.022885 -0.001569 -0.001001  0.026550   \n",
       "3  0.048974  0.050680  0.081097  0.021872  0.043837  0.064134 -0.054446   \n",
       "4  0.041708  0.050680  0.061696 -0.040099 -0.013953  0.006202 -0.028674   \n",
       "5 -0.060003  0.050680 -0.047163 -0.022885 -0.071743 -0.057681 -0.006584   \n",
       "6 -0.074533  0.050680  0.055229 -0.040099  0.053469  0.053174 -0.043401   \n",
       "7 -0.016412 -0.044642 -0.013751  0.132044 -0.009825 -0.003819  0.019187   \n",
       "8  0.023546  0.050680 -0.020218 -0.036656 -0.013953 -0.015092  0.059685   \n",
       "9  0.074401 -0.044642  0.031517  0.101058  0.046589  0.036890  0.015505   \n",
       "\n",
       "         s4        s5        s6      Y  \n",
       "0  0.034309  0.028017  0.011349  346.0  \n",
       "1 -0.002592 -0.012908 -0.054925  104.0  \n",
       "2 -0.039493 -0.022512  0.007207   49.0  \n",
       "3  0.071210  0.032433  0.048628  180.0  \n",
       "4 -0.002592 -0.014956  0.011349  110.0  \n",
       "5 -0.039493 -0.062913 -0.054925   72.0  \n",
       "6  0.071210  0.061238 -0.034215   68.0  \n",
       "7 -0.039493 -0.035817 -0.030072  216.0  \n",
       "8 -0.039493 -0.096433 -0.017646   47.0  \n",
       "9 -0.002592  0.033657  0.044485  296.0  "
      ]
     },
     "execution_count": 2,
     "metadata": {},
     "output_type": "execute_result"
    }
   ],
   "source": [
    "# Loading Training Data\n",
    "data = pd.read_csv(\"0000000000002329_training_diabetes_x_y_train.csv\")\n",
    "data.head(10)"
   ]
  },
  {
   "cell_type": "code",
   "execution_count": 3,
   "metadata": {},
   "outputs": [
    {
     "data": {
      "text/plain": [
       "# age    0\n",
       "sex      0\n",
       "bmi      0\n",
       "bp       0\n",
       "s1       0\n",
       "s2       0\n",
       "s3       0\n",
       "s4       0\n",
       "s5       0\n",
       "s6       0\n",
       "Y        0\n",
       "dtype: int64"
      ]
     },
     "execution_count": 3,
     "metadata": {},
     "output_type": "execute_result"
    }
   ],
   "source": [
    "# Checking the NaN value in data.\n",
    "data.isnull().sum()"
   ]
  },
  {
   "cell_type": "code",
   "execution_count": 4,
   "metadata": {},
   "outputs": [],
   "source": [
    "# Slicing according to data and target values\n",
    "x = data.iloc[:,0:10]\n",
    "y = data.iloc[:,10]"
   ]
  },
  {
   "cell_type": "code",
   "execution_count": 5,
   "metadata": {},
   "outputs": [
    {
     "data": {
      "text/plain": [
       "(331, 10)"
      ]
     },
     "execution_count": 5,
     "metadata": {},
     "output_type": "execute_result"
    }
   ],
   "source": [
    "x.shape"
   ]
  },
  {
   "cell_type": "code",
   "execution_count": 6,
   "metadata": {},
   "outputs": [],
   "source": [
    "# Importing Algorithm or Classifier\n",
    "from sklearn.model_selection import train_test_split\n",
    "from sklearn.linear_model import LinearRegression"
   ]
  },
  {
   "cell_type": "code",
   "execution_count": 7,
   "metadata": {},
   "outputs": [],
   "source": [
    "# Spliting the dataset for train and testing into 25% ratio by default\n",
    "x_train, x_test, y_train, y_test = train_test_split(x, y) "
   ]
  },
  {
   "cell_type": "code",
   "execution_count": 8,
   "metadata": {},
   "outputs": [
    {
     "name": "stdout",
     "output_type": "stream",
     "text": [
      "(83, 10) (83,)\n"
     ]
    }
   ],
   "source": [
    "print(x_test.shape, y_test.shape)"
   ]
  },
  {
   "cell_type": "code",
   "execution_count": 9,
   "metadata": {},
   "outputs": [],
   "source": [
    "# Classifier\n",
    "algo = LinearRegression()"
   ]
  },
  {
   "cell_type": "code",
   "execution_count": 10,
   "metadata": {},
   "outputs": [
    {
     "data": {
      "text/plain": [
       "LinearRegression(copy_X=True, fit_intercept=True, n_jobs=None, normalize=False)"
      ]
     },
     "execution_count": 10,
     "metadata": {},
     "output_type": "execute_result"
    }
   ],
   "source": [
    "# Train the Data\n",
    "algo.fit(x_train, y_train)"
   ]
  },
  {
   "cell_type": "code",
   "execution_count": 11,
   "metadata": {},
   "outputs": [
    {
     "data": {
      "text/plain": [
       "array([ 49.62775207,  89.58174282, 183.23052502, 164.63033168,\n",
       "       177.59767393, 184.97616639, 109.2977218 ,  56.39991348,\n",
       "       288.87968862,  59.23783065, 261.43849737, 238.57054957,\n",
       "       153.64008652, 175.67012124, 209.97805086, 119.4025572 ,\n",
       "        95.93222945,  55.26810418, 137.79175182, 176.52195647,\n",
       "       244.86729285, 135.28837075,  68.77334997, 200.6243722 ,\n",
       "        59.228468  , 238.25906432, 127.55386817, 163.30100782,\n",
       "        80.09956191,  65.39113861, 169.75242783, 118.83510506,\n",
       "        64.79269569, 175.8002906 , 125.95907252, 133.0641401 ,\n",
       "       224.03077693, 195.74388118,  98.4562898 , 124.74849867,\n",
       "       177.91857484, 194.39415031, 146.35348352, 109.703256  ,\n",
       "       231.37747855, 145.36389261,  67.52472683, 139.60850791,\n",
       "       146.31421253, 291.22864538, 136.41606866,  53.88090857,\n",
       "       122.9397901 , 171.49148507, 105.27734834, 188.61274799,\n",
       "       269.95737913,  83.24065513, 213.70566432, 150.45825851,\n",
       "       168.04679731, 178.7718982 ,  82.07942632, 116.34237834,\n",
       "       152.01315554,  97.86445284, 222.87240516, 111.90992616,\n",
       "        41.89128446, 160.28876132, 162.53358373,  47.88248416,\n",
       "       156.25324478, 109.3884125 , 153.25997134, 143.91897255,\n",
       "       152.32521276, 146.79902917, 235.54905428, 220.69775604,\n",
       "       149.79393254, 161.99918034, 251.24918176])"
      ]
     },
     "execution_count": 11,
     "metadata": {},
     "output_type": "execute_result"
    }
   ],
   "source": [
    "# Prediction of Test data\n",
    "pred = algo.predict(x_test)\n",
    "pred"
   ]
  },
  {
   "cell_type": "code",
   "execution_count": 12,
   "metadata": {},
   "outputs": [
    {
     "data": {
      "text/plain": [
       "0.5137709255899516"
      ]
     },
     "execution_count": 12,
     "metadata": {},
     "output_type": "execute_result"
    }
   ],
   "source": [
    "# Checking Score\n",
    "score = algo.score(x_test, y_test)\n",
    "score"
   ]
  },
  {
   "cell_type": "code",
   "execution_count": 13,
   "metadata": {},
   "outputs": [
    {
     "data": {
      "text/html": [
       "<div>\n",
       "<style scoped>\n",
       "    .dataframe tbody tr th:only-of-type {\n",
       "        vertical-align: middle;\n",
       "    }\n",
       "\n",
       "    .dataframe tbody tr th {\n",
       "        vertical-align: top;\n",
       "    }\n",
       "\n",
       "    .dataframe thead th {\n",
       "        text-align: right;\n",
       "    }\n",
       "</style>\n",
       "<table border=\"1\" class=\"dataframe\">\n",
       "  <thead>\n",
       "    <tr style=\"text-align: right;\">\n",
       "      <th></th>\n",
       "      <th>age</th>\n",
       "      <th>sex</th>\n",
       "      <th>bmi</th>\n",
       "      <th>bp</th>\n",
       "      <th>s1</th>\n",
       "      <th>s2</th>\n",
       "      <th>s3</th>\n",
       "      <th>s4</th>\n",
       "      <th>s5</th>\n",
       "      <th>s6</th>\n",
       "    </tr>\n",
       "  </thead>\n",
       "  <tbody>\n",
       "    <tr>\n",
       "      <th>0</th>\n",
       "      <td>0.023546</td>\n",
       "      <td>0.050680</td>\n",
       "      <td>-0.037463</td>\n",
       "      <td>-0.046985</td>\n",
       "      <td>-0.091006</td>\n",
       "      <td>-0.075530</td>\n",
       "      <td>-0.032356</td>\n",
       "      <td>-0.039493</td>\n",
       "      <td>-0.030751</td>\n",
       "      <td>-0.013504</td>\n",
       "    </tr>\n",
       "    <tr>\n",
       "      <th>1</th>\n",
       "      <td>-0.078165</td>\n",
       "      <td>-0.044642</td>\n",
       "      <td>-0.073030</td>\n",
       "      <td>-0.057314</td>\n",
       "      <td>-0.084126</td>\n",
       "      <td>-0.074277</td>\n",
       "      <td>-0.024993</td>\n",
       "      <td>-0.039493</td>\n",
       "      <td>-0.018118</td>\n",
       "      <td>-0.083920</td>\n",
       "    </tr>\n",
       "    <tr>\n",
       "      <th>2</th>\n",
       "      <td>-0.030942</td>\n",
       "      <td>0.050680</td>\n",
       "      <td>0.001339</td>\n",
       "      <td>-0.005671</td>\n",
       "      <td>0.064477</td>\n",
       "      <td>0.049416</td>\n",
       "      <td>-0.047082</td>\n",
       "      <td>0.108111</td>\n",
       "      <td>0.083797</td>\n",
       "      <td>0.003064</td>\n",
       "    </tr>\n",
       "    <tr>\n",
       "      <th>3</th>\n",
       "      <td>-0.005515</td>\n",
       "      <td>0.050680</td>\n",
       "      <td>0.001339</td>\n",
       "      <td>-0.084857</td>\n",
       "      <td>-0.011201</td>\n",
       "      <td>-0.016658</td>\n",
       "      <td>0.048640</td>\n",
       "      <td>-0.039493</td>\n",
       "      <td>-0.041180</td>\n",
       "      <td>-0.088062</td>\n",
       "    </tr>\n",
       "    <tr>\n",
       "      <th>4</th>\n",
       "      <td>-0.020045</td>\n",
       "      <td>-0.044642</td>\n",
       "      <td>-0.084886</td>\n",
       "      <td>-0.026328</td>\n",
       "      <td>-0.035968</td>\n",
       "      <td>-0.034194</td>\n",
       "      <td>0.041277</td>\n",
       "      <td>-0.051671</td>\n",
       "      <td>-0.082381</td>\n",
       "      <td>-0.046641</td>\n",
       "    </tr>\n",
       "    <tr>\n",
       "      <th>...</th>\n",
       "      <td>...</td>\n",
       "      <td>...</td>\n",
       "      <td>...</td>\n",
       "      <td>...</td>\n",
       "      <td>...</td>\n",
       "      <td>...</td>\n",
       "      <td>...</td>\n",
       "      <td>...</td>\n",
       "      <td>...</td>\n",
       "      <td>...</td>\n",
       "    </tr>\n",
       "    <tr>\n",
       "      <th>106</th>\n",
       "      <td>0.009016</td>\n",
       "      <td>0.050680</td>\n",
       "      <td>0.069241</td>\n",
       "      <td>0.059744</td>\n",
       "      <td>0.017694</td>\n",
       "      <td>-0.023234</td>\n",
       "      <td>-0.047082</td>\n",
       "      <td>0.034309</td>\n",
       "      <td>0.103292</td>\n",
       "      <td>0.073480</td>\n",
       "    </tr>\n",
       "    <tr>\n",
       "      <th>107</th>\n",
       "      <td>0.005383</td>\n",
       "      <td>-0.044642</td>\n",
       "      <td>0.049840</td>\n",
       "      <td>0.097616</td>\n",
       "      <td>-0.015328</td>\n",
       "      <td>-0.016345</td>\n",
       "      <td>-0.006584</td>\n",
       "      <td>-0.002592</td>\n",
       "      <td>0.017037</td>\n",
       "      <td>-0.013504</td>\n",
       "    </tr>\n",
       "    <tr>\n",
       "      <th>108</th>\n",
       "      <td>0.009016</td>\n",
       "      <td>-0.044642</td>\n",
       "      <td>-0.012673</td>\n",
       "      <td>0.028758</td>\n",
       "      <td>-0.018080</td>\n",
       "      <td>-0.005072</td>\n",
       "      <td>-0.047082</td>\n",
       "      <td>0.034309</td>\n",
       "      <td>0.023375</td>\n",
       "      <td>-0.005220</td>\n",
       "    </tr>\n",
       "    <tr>\n",
       "      <th>109</th>\n",
       "      <td>0.019913</td>\n",
       "      <td>-0.044642</td>\n",
       "      <td>-0.034229</td>\n",
       "      <td>0.055153</td>\n",
       "      <td>0.067229</td>\n",
       "      <td>0.074155</td>\n",
       "      <td>-0.006584</td>\n",
       "      <td>0.032833</td>\n",
       "      <td>0.024725</td>\n",
       "      <td>0.069338</td>\n",
       "    </tr>\n",
       "    <tr>\n",
       "      <th>110</th>\n",
       "      <td>0.016281</td>\n",
       "      <td>0.050680</td>\n",
       "      <td>0.009961</td>\n",
       "      <td>-0.043542</td>\n",
       "      <td>-0.096510</td>\n",
       "      <td>-0.094632</td>\n",
       "      <td>-0.039719</td>\n",
       "      <td>-0.039493</td>\n",
       "      <td>0.017037</td>\n",
       "      <td>0.007207</td>\n",
       "    </tr>\n",
       "  </tbody>\n",
       "</table>\n",
       "<p>111 rows × 10 columns</p>\n",
       "</div>"
      ],
      "text/plain": [
       "          age       sex       bmi        bp        s1        s2        s3  \\\n",
       "0    0.023546  0.050680 -0.037463 -0.046985 -0.091006 -0.075530 -0.032356   \n",
       "1   -0.078165 -0.044642 -0.073030 -0.057314 -0.084126 -0.074277 -0.024993   \n",
       "2   -0.030942  0.050680  0.001339 -0.005671  0.064477  0.049416 -0.047082   \n",
       "3   -0.005515  0.050680  0.001339 -0.084857 -0.011201 -0.016658  0.048640   \n",
       "4   -0.020045 -0.044642 -0.084886 -0.026328 -0.035968 -0.034194  0.041277   \n",
       "..        ...       ...       ...       ...       ...       ...       ...   \n",
       "106  0.009016  0.050680  0.069241  0.059744  0.017694 -0.023234 -0.047082   \n",
       "107  0.005383 -0.044642  0.049840  0.097616 -0.015328 -0.016345 -0.006584   \n",
       "108  0.009016 -0.044642 -0.012673  0.028758 -0.018080 -0.005072 -0.047082   \n",
       "109  0.019913 -0.044642 -0.034229  0.055153  0.067229  0.074155 -0.006584   \n",
       "110  0.016281  0.050680  0.009961 -0.043542 -0.096510 -0.094632 -0.039719   \n",
       "\n",
       "           s4        s5        s6  \n",
       "0   -0.039493 -0.030751 -0.013504  \n",
       "1   -0.039493 -0.018118 -0.083920  \n",
       "2    0.108111  0.083797  0.003064  \n",
       "3   -0.039493 -0.041180 -0.088062  \n",
       "4   -0.051671 -0.082381 -0.046641  \n",
       "..        ...       ...       ...  \n",
       "106  0.034309  0.103292  0.073480  \n",
       "107 -0.002592  0.017037 -0.013504  \n",
       "108  0.034309  0.023375 -0.005220  \n",
       "109  0.032833  0.024725  0.069338  \n",
       "110 -0.039493  0.017037  0.007207  \n",
       "\n",
       "[111 rows x 10 columns]"
      ]
     },
     "execution_count": 13,
     "metadata": {},
     "output_type": "execute_result"
    }
   ],
   "source": [
    "# Load new data for getting prediction values\n",
    "col_name =  ['age', 'sex', 'bmi', 'bp', 's1', 's2', 's3', 's4', 's5', 's6']\n",
    "new_test_data = pd.read_csv(\"0000000000002329_test_diabetes_x_test.csv\", names=col_name)\n",
    "new_td = pd.DataFrame(new_test_data)\n",
    "new_td"
   ]
  },
  {
   "cell_type": "code",
   "execution_count": 14,
   "metadata": {},
   "outputs": [
    {
     "data": {
      "text/plain": [
       "age    0\n",
       "sex    0\n",
       "bmi    0\n",
       "bp     0\n",
       "s1     0\n",
       "s2     0\n",
       "s3     0\n",
       "s4     0\n",
       "s5     0\n",
       "s6     0\n",
       "dtype: int64"
      ]
     },
     "execution_count": 14,
     "metadata": {},
     "output_type": "execute_result"
    }
   ],
   "source": [
    "new_td.isnull().sum()"
   ]
  },
  {
   "cell_type": "code",
   "execution_count": 15,
   "metadata": {},
   "outputs": [
    {
     "data": {
      "text/plain": [
       "(111,)"
      ]
     },
     "execution_count": 15,
     "metadata": {},
     "output_type": "execute_result"
    }
   ],
   "source": [
    "# Prediction of New Datasets which is called as \"Test Data\"\n",
    "pred_new_data = algo.predict(new_td)\n",
    "pred_new_data.shape"
   ]
  },
  {
   "cell_type": "code",
   "execution_count": 16,
   "metadata": {},
   "outputs": [
    {
     "data": {
      "text/plain": [
       "1.0"
      ]
     },
     "execution_count": 16,
     "metadata": {},
     "output_type": "execute_result"
    }
   ],
   "source": [
    "#Scoring of new data set\n",
    "score_new_data = algo.score(new_td, pred_new_data)\n",
    "score_new_data"
   ]
  },
  {
   "cell_type": "code",
   "execution_count": 17,
   "metadata": {},
   "outputs": [],
   "source": [
    "# Save Prediction values in csv file\n",
    "import csv\n",
    "with open('New_Prediction.csv', 'w') as f:\n",
    "    for c in pred_new_data:\n",
    "        d = round(c, 5)\n",
    "        f.write(str(d))\n",
    "        f.write(\"\\n\")"
   ]
  },
  {
   "cell_type": "markdown",
   "metadata": {},
   "source": [
    "                                                                                               Submitted By :- Ashish Prasad"
   ]
  },
  {
   "cell_type": "code",
   "execution_count": null,
   "metadata": {},
   "outputs": [],
   "source": []
  }
 ],
 "metadata": {
  "kernelspec": {
   "display_name": "Python 3",
   "language": "python",
   "name": "python3"
  },
  "language_info": {
   "codemirror_mode": {
    "name": "ipython",
    "version": 3
   },
   "file_extension": ".py",
   "mimetype": "text/x-python",
   "name": "python",
   "nbconvert_exporter": "python",
   "pygments_lexer": "ipython3",
   "version": "3.6.8"
  }
 },
 "nbformat": 4,
 "nbformat_minor": 2
}
